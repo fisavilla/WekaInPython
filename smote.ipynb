{
 "cells": [
  {
   "cell_type": "code",
   "execution_count": null,
   "metadata": {},
   "outputs": [],
   "source": [
    "import weka.core.jvm as jvm\n",
    "jvm.start()\n",
    "jvm.start(packages=True)\n",
    "help(jvm.start)\n",
    "help(jvm.stop)\n"
   ]
  },
  {
   "cell_type": "code",
   "execution_count": null,
   "metadata": {},
   "outputs": [],
   "source": [
    "import os\n",
    "import traceback\n",
    "import weka.core.jvm as jvm\n",
    "import wekaexamples.helper as helper\n",
    "from weka.core.converters import Loader\n",
    "from weka.core.stemmers import Stemmer\n",
    "from weka.core.stopwords import Stopwords\n",
    "from weka.core.tokenizers import Tokenizer\n",
    "from weka.filters import Filter, MultiFilter, StringToWordVector\n",
    "from imblearn.over_sampling import SMOTE \n",
    "\n",
    "datasrc=\"C:\\Users\\Fidelina Villa\\Documents\\\\train\\\\SMOTE\\\\\"\n",
    "nameFile=\"Train2.arff\"\n",
    "helper.print_info(\"Loading dataset: \" + datasrc+nameFile)\n",
    "loader = Loader(\"weka.core.converters.ArffLoader\")\n",
    "data = loader.load_file(datasrc+nameFile)\n",
    "\n",
    "# remove class attribute\n",
    "helper.print_info(\"Smote class attribute\")\n",
    "remove = Filter(classname=\"weka.filters.supervised.instance.SMOTE\",options=[\"-C\",\"0\",\"-K\",\"5\",\"-P\",\"100.0\",\"-S\",\"1\"])\n",
    "remove.inputformat(data)\n",
    "filtered = remove.filter(data)\n",
    "helper.print_info(\"Ready\")"
   ]
  },
  {
   "cell_type": "code",
   "execution_count": null,
   "metadata": {},
   "outputs": [],
   "source": []
  },
  {
   "cell_type": "code",
   "execution_count": null,
   "metadata": {},
   "outputs": [],
   "source": []
  }
 ],
 "metadata": {
  "kernelspec": {
   "display_name": "Python 2",
   "language": "python",
   "name": "python2"
  },
  "language_info": {
   "codemirror_mode": {
    "name": "ipython",
    "version": 2
   },
   "file_extension": ".py",
   "mimetype": "text/x-python",
   "name": "python",
   "nbconvert_exporter": "python",
   "pygments_lexer": "ipython2",
   "version": "2.7.18"
  }
 },
 "nbformat": 4,
 "nbformat_minor": 2
}
