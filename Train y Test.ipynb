{
 "cells": [
  {
   "cell_type": "code",
   "execution_count": null,
   "metadata": {},
   "outputs": [],
   "source": [
    "import weka.core.jvm as jvm\n",
    "jvm.start()\n",
    "help(jvm.start)\n",
    "help(jvm.stop)"
   ]
  },
  {
   "cell_type": "code",
   "execution_count": null,
   "metadata": {},
   "outputs": [],
   "source": [
    "import os\n",
    "import sys\n",
    "import traceback\n",
    "import weka.core.jvm as jvm\n",
    "import wekaexamples.helper as helper\n",
    "from weka.core.classes import Random\n",
    "from weka.core.converters import Loader\n",
    "\n",
    "datasrc=\"C:\\Users\\Fidelina Villa\\Documents\\\\train\\\\\"\n",
    "nameFile=\"Datos.arff\"\n",
    "helper.print_info(\"Loading dataset: \" + datasrc+nameFile)\n",
    "loader = Loader(classname=\"weka.core.converters.ArffLoader\")\n",
    "data = loader.load_file(datasrc+nameFile)\n",
    "data.class_is_last()\n",
    "\n",
    "train, test = data.train_test_split(75.0, Random(1))"
   ]
  }
 ],
 "metadata": {
  "kernelspec": {
   "display_name": "Python 2",
   "language": "python",
   "name": "python2"
  },
  "language_info": {
   "codemirror_mode": {
    "name": "ipython",
    "version": 2
   },
   "file_extension": ".py",
   "mimetype": "text/x-python",
   "name": "python",
   "nbconvert_exporter": "python",
   "pygments_lexer": "ipython2",
   "version": "2.7.18"
  }
 },
 "nbformat": 4,
 "nbformat_minor": 2
}
